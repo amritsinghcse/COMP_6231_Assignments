{
  "nbformat": 4,
  "nbformat_minor": 0,
  "metadata": {
    "colab": {
      "name": "Assignment - 5 Spark.ipynb",
      "provenance": [],
      "collapsed_sections": []
    },
    "kernelspec": {
      "name": "python3",
      "display_name": "Python 3"
    },
    "language_info": {
      "name": "python"
    }
  },
  "cells": [
    {
      "cell_type": "code",
      "metadata": {
        "id": "rxF6bnsfXlwW",
        "colab": {
          "base_uri": "https://localhost:8080/"
        },
        "outputId": "11bc6975-d12e-4e14-a2d5-57491f4c6278"
      },
      "source": [
        "!pip install pyspark"
      ],
      "execution_count": 1,
      "outputs": [
        {
          "output_type": "stream",
          "name": "stdout",
          "text": [
            "Collecting pyspark\n",
            "  Downloading pyspark-3.2.0.tar.gz (281.3 MB)\n",
            "\u001b[K     |████████████████████████████████| 281.3 MB 36 kB/s \n",
            "\u001b[?25hCollecting py4j==0.10.9.2\n",
            "  Downloading py4j-0.10.9.2-py2.py3-none-any.whl (198 kB)\n",
            "\u001b[K     |████████████████████████████████| 198 kB 40.1 MB/s \n",
            "\u001b[?25hBuilding wheels for collected packages: pyspark\n",
            "  Building wheel for pyspark (setup.py) ... \u001b[?25l\u001b[?25hdone\n",
            "  Created wheel for pyspark: filename=pyspark-3.2.0-py2.py3-none-any.whl size=281805912 sha256=f298154b4110552ab4434d77da70fa8ff8625d77bd73d882adb5f2b6e77426bf\n",
            "  Stored in directory: /root/.cache/pip/wheels/0b/de/d2/9be5d59d7331c6c2a7c1b6d1a4f463ce107332b1ecd4e80718\n",
            "Successfully built pyspark\n",
            "Installing collected packages: py4j, pyspark\n",
            "Successfully installed py4j-0.10.9.2 pyspark-3.2.0\n"
          ]
        }
      ]
    },
    {
      "cell_type": "code",
      "metadata": {
        "id": "xgzqu4BGXpST"
      },
      "source": [
        "from pyspark import SparkContext\n",
        "sc = SparkContext()"
      ],
      "execution_count": 356,
      "outputs": []
    },
    {
      "cell_type": "code",
      "metadata": {
        "colab": {
          "base_uri": "https://localhost:8080/"
        },
        "id": "DDk_j0d-pCyE",
        "outputId": "aa014ff6-56ea-4cee-b04e-75868f0bdc8a"
      },
      "source": [
        "movies = sc.textFile('movies.csv')\n",
        "headerM = movies.first()\n",
        "movies = movies.filter(lambda x: x != headerM)\n",
        "movies = movies.map(lambda x: x.split(\",\"))\n",
        "movies.take(10)"
      ],
      "execution_count": 357,
      "outputs": [
        {
          "output_type": "execute_result",
          "data": {
            "text/plain": [
              "[['1', 'Toy Story (1995)', 'Adventure|Animation|Children|Comedy|Fantasy'],\n",
              " ['2', 'Jumanji (1995)', 'Adventure|Children|Fantasy'],\n",
              " ['3', 'Grumpier Old Men (1995)', 'Comedy|Romance'],\n",
              " ['4', 'Waiting to Exhale (1995)', 'Comedy|Drama|Romance'],\n",
              " ['5', 'Father of the Bride Part II (1995)', 'Comedy'],\n",
              " ['6', 'Heat (1995)', 'Action|Crime|Thriller'],\n",
              " ['7', 'Sabrina (1995)', 'Comedy|Romance'],\n",
              " ['8', 'Tom and Huck (1995)', 'Adventure|Children'],\n",
              " ['9', 'Sudden Death (1995)', 'Action'],\n",
              " ['10', 'GoldenEye (1995)', 'Action|Adventure|Thriller']]"
            ]
          },
          "metadata": {},
          "execution_count": 357
        }
      ]
    },
    {
      "cell_type": "code",
      "metadata": {
        "colab": {
          "base_uri": "https://localhost:8080/"
        },
        "id": "ZaQGdkYjplEh",
        "outputId": "63e0bf62-2295-4aa1-a367-a787442ca390"
      },
      "source": [
        "moviesRDD = movies.filter(lambda x: 'Drama' in x[2])\n",
        "print(\"No. of Drama movies: %s\" % moviesRDD.count())"
      ],
      "execution_count": 358,
      "outputs": [
        {
          "output_type": "stream",
          "name": "stdout",
          "text": [
            "No. of Drama movies: 3310\n"
          ]
        }
      ]
    },
    {
      "cell_type": "code",
      "metadata": {
        "colab": {
          "base_uri": "https://localhost:8080/"
        },
        "id": "xKgcLGLPvWw3",
        "outputId": "00a63294-593e-47ad-85a0-85ae02565fc2"
      },
      "source": [
        "ratings = sc.textFile('ratings.csv')\n",
        "header = ratings.first()\n",
        "ratings = ratings.filter(lambda x: x != header)\n",
        "ratings = ratings.map(lambda x: x.split(\",\"))\n",
        "ratings.take(10)"
      ],
      "execution_count": 359,
      "outputs": [
        {
          "output_type": "execute_result",
          "data": {
            "text/plain": [
              "[['1', '1', '4.0', '964982703'],\n",
              " ['1', '3', '4.0', '964981247'],\n",
              " ['1', '6', '4.0', '964982224'],\n",
              " ['1', '47', '5.0', '964983815'],\n",
              " ['1', '50', '5.0', '964982931'],\n",
              " ['1', '70', '3.0', '964982400'],\n",
              " ['1', '101', '5.0', '964980868'],\n",
              " ['1', '110', '4.0', '964982176'],\n",
              " ['1', '151', '5.0', '964984041'],\n",
              " ['1', '157', '5.0', '964984100']]"
            ]
          },
          "metadata": {},
          "execution_count": 359
        }
      ]
    },
    {
      "cell_type": "code",
      "metadata": {
        "colab": {
          "base_uri": "https://localhost:8080/"
        },
        "id": "KNWZkd5dvXVe",
        "outputId": "809ffc05-c2ad-4e41-c357-1b47c6b23064"
      },
      "source": [
        "ratingsRDD = ratings.map(lambda x: x[1]).distinct()\n",
        "print(\"No. of Rated movies:  %s \" % ratingsRDD.count())"
      ],
      "execution_count": 360,
      "outputs": [
        {
          "output_type": "stream",
          "name": "stdout",
          "text": [
            "No. of Rated movies:  9724 \n"
          ]
        }
      ]
    },
    {
      "cell_type": "code",
      "metadata": {
        "colab": {
          "base_uri": "https://localhost:8080/"
        },
        "id": "xQhACbteyFk_",
        "outputId": "0e09237f-96bc-4596-dd5c-7a939e897b38"
      },
      "source": [
        "moviesRDD = movies.map(lambda x: x[0])\n",
        "subtractRDD = moviesRDD.subtract(ratingsRDD)\n",
        "print(\"No. of unrated movies %s\" % subtractRDD.count())"
      ],
      "execution_count": 361,
      "outputs": [
        {
          "output_type": "stream",
          "name": "stdout",
          "text": [
            "No. of unrated movies 18\n"
          ]
        }
      ]
    },
    {
      "cell_type": "code",
      "metadata": {
        "colab": {
          "base_uri": "https://localhost:8080/"
        },
        "id": "hA0Uc0Uw3hMK",
        "outputId": "ab5c5b82-4422-4f86-9a61-01cd2c2efc15"
      },
      "source": [
        "ratingsRDD = ratings.map(lambda x: (x[0], 1))\n",
        "ratingsRDD = ratingsRDD.reduceByKey(lambda x, y: (x + y))\n",
        "ratingsRDD = ratingsRDD.sortBy(lambda x: x[1], False)\n",
        "print(\"User with most ratings is %s with %s ratings\" % (ratingsRDD.first()[0] , ratingsRDD.first()[1]))"
      ],
      "execution_count": 362,
      "outputs": [
        {
          "output_type": "stream",
          "name": "stdout",
          "text": [
            "User with most ratings is 414 with 2698 ratings\n"
          ]
        }
      ]
    },
    {
      "cell_type": "code",
      "metadata": {
        "id": "-gsO2PdI6HJN"
      },
      "source": [
        "ratingsRDD = ratings.map(lambda x: (x[0], x[2]))"
      ],
      "execution_count": 363,
      "outputs": []
    },
    {
      "cell_type": "code",
      "metadata": {
        "colab": {
          "base_uri": "https://localhost:8080/"
        },
        "id": "wH_-WfvQ-Q0p",
        "outputId": "6a31e3ed-5f34-4ac0-9e84-966c5fd8f509"
      },
      "source": [
        "minimum = ratingsRDD.reduceByKey(min)\n",
        "print(\"Minimum Ratings per movie: \")\n",
        "minimum.take(10)"
      ],
      "execution_count": 366,
      "outputs": [
        {
          "output_type": "stream",
          "name": "stdout",
          "text": [
            "Minimum Ratings per movie: \n"
          ]
        },
        {
          "output_type": "execute_result",
          "data": {
            "text/plain": [
              "[('1', '1.0'),\n",
              " ('4', '1.0'),\n",
              " ('8', '1.0'),\n",
              " ('9', '1.0'),\n",
              " ('10', '0.5'),\n",
              " ('12', '3.0'),\n",
              " ('14', '1.0'),\n",
              " ('16', '1.5'),\n",
              " ('17', '3.0'),\n",
              " ('19', '1.0')]"
            ]
          },
          "metadata": {},
          "execution_count": 366
        }
      ]
    },
    {
      "cell_type": "code",
      "metadata": {
        "colab": {
          "base_uri": "https://localhost:8080/"
        },
        "id": "gOqff5RD3rMt",
        "outputId": "e87fd6ec-d4e4-4e55-dc9f-d72cb4d2119a"
      },
      "source": [
        "maximum = ratingsRDD.reduceByKey(max)\n",
        "print(\"Maximum Ratings per movie: \")\n",
        "maximum.take(10)"
      ],
      "execution_count": 367,
      "outputs": [
        {
          "output_type": "stream",
          "name": "stdout",
          "text": [
            "Maximum Ratings per movie: \n"
          ]
        },
        {
          "output_type": "execute_result",
          "data": {
            "text/plain": [
              "[('1', '5.0'),\n",
              " ('4', '5.0'),\n",
              " ('8', '5.0'),\n",
              " ('9', '5.0'),\n",
              " ('10', '5.0'),\n",
              " ('12', '5.0'),\n",
              " ('14', '5.0'),\n",
              " ('16', '5.0'),\n",
              " ('17', '5.0'),\n",
              " ('19', '5.0')]"
            ]
          },
          "metadata": {},
          "execution_count": 367
        }
      ]
    },
    {
      "cell_type": "code",
      "metadata": {
        "colab": {
          "base_uri": "https://localhost:8080/"
        },
        "id": "mU0h9ge5Hqpa",
        "outputId": "303d073c-18cb-4a99-fc9a-e7b91a2fb54e"
      },
      "source": [
        "average = ratingsRDD.mapValues(lambda v: (v, 1)).reduceByKey(lambda a,b: (float(a[0])+float(b[0]), a[1]+b[1])).mapValues(lambda x : x[0]/x[1])\n",
        "print(\"Average Ratings per movie: \")\n",
        "average.take(10)"
      ],
      "execution_count": 368,
      "outputs": [
        {
          "output_type": "stream",
          "name": "stdout",
          "text": [
            "Average Ratings per movie: \n"
          ]
        },
        {
          "output_type": "execute_result",
          "data": {
            "text/plain": [
              "[('1', 4.366379310344827),\n",
              " ('4', 3.5555555555555554),\n",
              " ('8', 3.574468085106383),\n",
              " ('9', 3.260869565217391),\n",
              " ('10', 3.2785714285714285),\n",
              " ('12', 4.390625),\n",
              " ('14', 3.3958333333333335),\n",
              " ('16', 3.7244897959183674),\n",
              " ('17', 4.20952380952381),\n",
              " ('19', 2.607396870554765)]"
            ]
          },
          "metadata": {},
          "execution_count": 368
        }
      ]
    },
    {
      "cell_type": "code",
      "metadata": {
        "colab": {
          "base_uri": "https://localhost:8080/"
        },
        "id": "j8pz50PrO6-O",
        "outputId": "6dbbfefb-03ff-4eb5-8f7b-e1d04303dcee"
      },
      "source": [
        "tags = sc.textFile(\"tags.csv\")\n",
        "headerT = tags.first()\n",
        "tags = tags.filter(lambda x: x != headerT)\n",
        "tags = tags.map(lambda x: x.split(\",\"))\n",
        "tags.take(10)"
      ],
      "execution_count": 369,
      "outputs": [
        {
          "output_type": "execute_result",
          "data": {
            "text/plain": [
              "[['2', '60756', 'funny', '1445714994'],\n",
              " ['2', '60756', 'Highly quotable', '1445714996'],\n",
              " ['2', '60756', 'will ferrell', '1445714992'],\n",
              " ['2', '89774', 'Boxing story', '1445715207'],\n",
              " ['2', '89774', 'MMA', '1445715200'],\n",
              " ['2', '89774', 'Tom Hardy', '1445715205'],\n",
              " ['2', '106782', 'drugs', '1445715054'],\n",
              " ['2', '106782', 'Leonardo DiCaprio', '1445715051'],\n",
              " ['2', '106782', 'Martin Scorsese', '1445715056'],\n",
              " ['7', '48516', 'way too long', '1169687325']]"
            ]
          },
          "metadata": {},
          "execution_count": 369
        }
      ]
    },
    {
      "cell_type": "code",
      "metadata": {
        "colab": {
          "base_uri": "https://localhost:8080/"
        },
        "id": "S4nHY8fmPt_D",
        "outputId": "3fdc677f-f6e0-493e-d4c7-a4238d2a9249"
      },
      "source": [
        "tagsRDD = tags.map(lambda x: (x[0], x[1])).distinct()\n",
        "ratingsRDD = ratings.map(lambda x: (x[0], x[1])).distinct()\n",
        "ratedButNotTagged = ratingsRDD.subtract(tagsRDD)\n",
        "print(\"Users with Rated but not Tagged movies: \")\n",
        "ratedButNotTagged.take(10)"
      ],
      "execution_count": 387,
      "outputs": [
        {
          "output_type": "stream",
          "name": "stdout",
          "text": [
            "Users with Rated but not Tagged movies: \n"
          ]
        },
        {
          "output_type": "execute_result",
          "data": {
            "text/plain": [
              "[('1', '50'),\n",
              " ('1', '70'),\n",
              " ('1', '110'),\n",
              " ('1', '157'),\n",
              " ('1', '216'),\n",
              " ('1', '333'),\n",
              " ('1', '356'),\n",
              " ('1', '441'),\n",
              " ('1', '552'),\n",
              " ('1', '553')]"
            ]
          },
          "metadata": {},
          "execution_count": 387
        }
      ]
    },
    {
      "cell_type": "code",
      "metadata": {
        "colab": {
          "base_uri": "https://localhost:8080/"
        },
        "id": "v7oGwfxAQ8DW",
        "outputId": "799b2c87-62c2-48e8-9ae6-1ffd6e92a34f"
      },
      "source": [
        "print(\"Users with both Rated and Tagged movies: \")\n",
        "ratedAndTagged = ratingsRDD.intersection(tagsRDD)\n",
        "ratedAndTagged.take(10)"
      ],
      "execution_count": 388,
      "outputs": [
        {
          "output_type": "stream",
          "name": "stdout",
          "text": [
            "Users with both Rated and Tagged movies: \n"
          ]
        },
        {
          "output_type": "execute_result",
          "data": {
            "text/plain": [
              "[('2', '106782'),\n",
              " ('18', '44665'),\n",
              " ('18', '52604'),\n",
              " ('62', '3114'),\n",
              " ('62', '6564'),\n",
              " ('62', '7153'),\n",
              " ('62', '33162'),\n",
              " ('62', '38061'),\n",
              " ('62', '59501'),\n",
              " ('62', '63992')]"
            ]
          },
          "metadata": {},
          "execution_count": 388
        }
      ]
    },
    {
      "cell_type": "code",
      "metadata": {
        "colab": {
          "base_uri": "https://localhost:8080/"
        },
        "id": "tgbMrQbWR78a",
        "outputId": "45d24335-2c37-4980-cdf6-0157738cbbc1"
      },
      "source": [
        "moviesRDD = movies.map(lambda x: [x[1][len(x[1]) - 5: len(x[1]) - 1], x[2].split(\"|\")]).filter(lambda x : x[0].isnumeric() and len(x[0]) == 4)\n",
        "moviesRDD = moviesRDD.flatMapValues(lambda v : v).map(lambda x: (x, 1))\n",
        "moviesRDD =  moviesRDD.reduceByKey(lambda x, y: (x + y))\n",
        "print(\"Number of movies per genre per year: \")\n",
        "moviesRDD.take(10)"
      ],
      "execution_count": 372,
      "outputs": [
        {
          "output_type": "stream",
          "name": "stdout",
          "text": [
            "Number of movies per genre per year: \n"
          ]
        },
        {
          "output_type": "execute_result",
          "data": {
            "text/plain": [
              "[(('1995', 'Children'), 20),\n",
              " (('1995', 'Fantasy'), 11),\n",
              " (('1995', 'Romance'), 38),\n",
              " (('1995', 'Drama'), 96),\n",
              " (('1995', 'Action'), 39),\n",
              " (('1995', 'Thriller'), 34),\n",
              " (('1995', 'Horror'), 15),\n",
              " (('1995', 'Sci-Fi'), 17),\n",
              " (('1995', 'Musical'), 2),\n",
              " (('1994', 'Drama'), 87)]"
            ]
          },
          "metadata": {},
          "execution_count": 372
        }
      ]
    },
    {
      "cell_type": "code",
      "metadata": {
        "id": "HjU5bVcsqgFq"
      },
      "source": [
        "sc.stop()"
      ],
      "execution_count": 355,
      "outputs": []
    }
  ]
}